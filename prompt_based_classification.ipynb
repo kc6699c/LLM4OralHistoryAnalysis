{
  "cells": [
    {
      "cell_type": "code",
      "execution_count": null,
      "id": "fcfe9695",
      "metadata": {
        "id": "fcfe9695"
      },
      "outputs": [],
      "source": [
        "import pandas as pd\n",
        "from groq import Groq\n",
        "import warnings\n",
        "\n",
        "warnings.filterwarnings(\"ignore\", category=DeprecationWarning)"
      ]
    },
    {
      "cell_type": "code",
      "source": [
        "!pip install groq"
      ],
      "metadata": {
        "id": "qSXBiCgcQbba"
      },
      "id": "qSXBiCgcQbba",
      "execution_count": null,
      "outputs": []
    },
    {
      "cell_type": "code",
      "execution_count": null,
      "id": "2ffccaff",
      "metadata": {
        "id": "2ffccaff"
      },
      "outputs": [],
      "source": [
        "client = Groq(\n",
        "    api_key=\"API_KEY\",\n",
        ")"
      ]
    },
    {
      "cell_type": "code",
      "execution_count": null,
      "id": "228f6999",
      "metadata": {
        "id": "228f6999"
      },
      "outputs": [],
      "source": [
        "df = pd.read_csv('FinalClassified_cleaned.csv')\n",
        "print(df.shape)\n",
        "df.head()"
      ]
    },
    {
      "cell_type": "code",
      "execution_count": null,
      "id": "37d44e46",
      "metadata": {
        "id": "37d44e46"
      },
      "outputs": [],
      "source": [
        "df['BinaryClassification'].value_counts()"
      ]
    },
    {
      "cell_type": "code",
      "execution_count": null,
      "id": "872ce557",
      "metadata": {
        "id": "872ce557"
      },
      "outputs": [],
      "source": [
        "df_copy = df[df['BinaryClassification'] == 1].copy()\n",
        "df_copy.shape"
      ]
    },
    {
      "cell_type": "code",
      "execution_count": null,
      "id": "477f5301",
      "metadata": {
        "id": "477f5301"
      },
      "outputs": [],
      "source": [
        "df_copy.drop(columns=['BinaryClassification', 'word_count'], inplace=True)"
      ]
    },
    {
      "cell_type": "code",
      "execution_count": null,
      "id": "19b0bfeb",
      "metadata": {
        "id": "19b0bfeb"
      },
      "outputs": [],
      "source": [
        "df_copy.head()"
      ]
    },
    {
      "cell_type": "markdown",
      "id": "cc2ef4e8",
      "metadata": {
        "id": "cc2ef4e8"
      },
      "source": [
        "## Topic Classification with Llama"
      ]
    },
    {
      "cell_type": "code",
      "execution_count": null,
      "id": "2acba500",
      "metadata": {
        "id": "2acba500"
      },
      "outputs": [],
      "source": [
        "def get_classification(post, examples, context):\n",
        "    prompt = f\"\"\"You're working on a project about the history of Japanese incarceration. You have enough knowledge about this domain and can consider the contexts inside the topic.\n",
        "Based on your memory and the below definitions for each topic, classify transcripts in each row into the corresponding topic category.\n",
        "The sentences are from the Densho repository, an extensive digital archive focused on the history of Japanese Americans during World War II.\n",
        "The repository aims to preserve and share the stories of Japanese Americans who were forcibly relocated and incarcerated in internment camps by the U.S. government following the attack on Pearl Harbor. Return only the topic numbers as outputs. Return only the topic category number as outputs.\n",
        "\n",
        "###Topic Categories###\n",
        "0 - Biographic Information of the person\n",
        "1 - Life before the Incarceration\n",
        "2 - Life during the Incarceration\n",
        "3 - Military services\n",
        "4 - Returning of Japanese Americans after WWII\n",
        "5 - Movements for peace and justice\n",
        "\n",
        "Category 0: Biographical Information\n",
        "Sentences in this category should focus on factual details about individuals, such as their name, birthdate, birthplace (including camps), family members, or religious affiliations. It also includes sentences mainly describing how old they were when they came to the U.S. (e.g., “My father came to the U.S. in 1905 at the age of fifteen with his father”) without a broader context about their lives or experiences in the new country, then they must be labeled here, otherwise in Category 1. If the sentence provides additional context about their life in the U.S., such as challenges, achievements, community involvement, family life, or education, it should be categorized in Category 1 instead. For example, sentences about establishing a business, adapting to a new culture, or interacting with the community belong in Category 1, even if they also include factual details.\n",
        "\n",
        "Category 1: Life Before the Incarceration\n",
        "This category includes sentences that describe how Japanese Americans or their families lived before the declaration of incarceration. It encompasses their daily lives, educational experiences, cultural practices, community dynamics, and the challenges they faced, such as racial discrimination or political tensions leading up to World War II. It also includes sentences about family customs, cultural teachings, and social hierarchies passed down within families, including Japanese traditions, values, and practices instilled by parents or elders. For example, reflections on how children were taught to follow Japanese customs, or observe traditional roles in the family fit into this category. Sentences that reflect societal attitudes, media portrayals, or policies (e.g., Alien Registration Act) before Pearl Harbor or the declaration of incarceration also belong here. If sentences primarily focus on factual details (e.g., names, birthdates, birthplaces, or religious affiliations) without additional life context, they should be categorized in Category 0 instead.\n",
        "Sentences also can be about the story of how they came to the U.S. but if they include factual biographical information (e.g., “My father was 19 when he came to the U.S.”) without a broader life context, it should be categorized in Category 0 instead.\n",
        "While sentences about pre-war discrimination, anti-Japanese sentiment, or the political environment may refer to the growing threat of war, they are still part of the pre-incarceration context and should remain in this category. Additionally, personal reflections on how societal attitudes evolved leading up to the war, or the ways these attitudes shaped Japanese Americans' lives, should be categorized here.\n",
        "If sentences discuss specific events or societal struggles after Pearl Harbor or during the incarceration period, such as transportation to camps, FBI investigations, or experiences within the camps, they should be categorized in Category 2.\n",
        "\n",
        "Category 2: Life During the Incarceration\n",
        "This category includes sentences describing events and experiences spanning from the day Japan bombed Pearl Harbor (December 7, 1941) to the end of incarceration, encompassing the period leading up to internment. It captures societal struggles, acts of discrimination, and preparations for removal, as well as the daily realities of life in incarceration camps. Stories in this category may include memories of Pearl Harbor and the immediate societal fallout, such as FBI investigations, heightened community tensions, and both acts of kindness and hostility. They also cover personal challenges during the removal process, including packing belongings, selling off property, and bidding farewell to friends and neighbors, as well as experiences during transportation to camps or while awaiting relocation orders, often marked by discrimination and difficulties accessing services. Additionally, this category encompasses life within the camps, including food, work, education, recreation, and the social dynamics of those confined together.\n",
        "This category also includes legal challenges or defiance of laws during the incarceration period, such as acts of civil disobedience or challenges to curfews, incarceration orders, or other wartime restrictions. Narratives reflecting on these events as they occurred during the incarceration time, whether supportive or critical, also belong here. Furthermore, perspectives from non-Japanese individuals about the removal or treatment of Japanese Americans during this time fit within this category.\n",
        "Category 2 focuses on events tied directly to incarceration and wartime struggles. If sentences focus primarily on pre-war life, such as stories about businesses, schools, neighborhood life, societal attitudes, or challenges leading up to Pearl Harbor and incarceration, they should be categorized in Category 1 instead.\n",
        "\n",
        "Category 3: Military services\n",
        "This category includes sentences that describe decisions about military service, whether individuals chose to join the U.S. Army, resisted conscription, or, in some cases, considered service in the Japanese Army. It also encompasses reflections on the loyalty questionnaire, particularly questions related to allegiance to the U.S. and military service, along with the consequences of their responses. Sentences in this category often explore societal perceptions and judgments of those who served, resisted, or expressed defiance, including terms like \"\"yes-yes\"\" or \"\"no-no\"\" and their broader implications.\n",
        "Additionally, this category includes sentences discussing the post-war benefits and opportunities that stemmed from military service, such as gaining employment, accessing education, or receiving recognition through veterans' programs. If a sentence primarily focuses on military service, the loyalty questionnaire, or the societal and personal impacts of military involvement, it should be categorized here rather than in Category 2.\n",
        "\n",
        "Category 4: Returning of Japanese Americans after WWII\n",
        "This category must include sentences describing stories after the war ended, focusing on adjustments to life after leaving the camps or surviving in post-war Japan. These stories may consist of challenges like finding employment, gaining access to education, and dealing with societal treatment in the U.S. or Japan. Narratives about the survival strategies of those in Japan, such as participating in illegal markets or navigating post-war chaos, also fall under this category, as do interactions with American soldiers or the impact of post-war policies on civilians.\n",
        "Additionally, this category includes reflections on the emotional and societal aftermath of the war, such as shock at Japan's surrender, the chaos of rebuilding lives, and how people coped with these changes. Narratives by non-Japanese individuals about their perspectives on welcoming or rejecting Japanese Americans also belong here.\n",
        "\n",
        "Category 5: Movements for Peace and Justice\n",
        "This category includes sentences describing redress movements and other activities aimed at seeking justice after the war ended. It focuses on efforts to address the wrongs of incarceration, how individuals and communities advocated for recognition, reparations, or historical acknowledgment, and reflections on the broader lessons learned from the incarceration experience. Sentences reflecting on the impact of these movements or the legacy of the incarceration history during interviews also belong here.\n",
        "Legal challenges or acts of resistance occurring during the incarceration period, such as defying curfews or incarceration orders, belong in Category 2 unless they are explicitly discussed in the context of post-war justice movements.\n",
        "\n",
        "\n",
        "# Prompting Strategy:\n",
        "# If labeled examples are provided in the `examples` field, the model operates in a few-shot setting.\n",
        "# If no examples are provided, the prompt functions in a zero-shot setting based solely on the topic definitions and instructions.\n",
        "\n",
        "Use these examples of transcripts that were classified: \"{examples}\"\n",
        "\n",
        "Transcript: \"{post}\"\n",
        "\"\"\"\n",
        "\n",
        "    try:\n",
        "        response = client.chat.completions.create(\n",
        "        messages=[\n",
        "            {\n",
        "                \"role\": \"user\",\n",
        "                \"content\": prompt,\n",
        "            }\n",
        "        ],\n",
        "        temperature=0,\n",
        "        max_tokens=4096,\n",
        "        top_p=0.95,\n",
        "        model=\"llama-3.3-70b-versatile\",\n",
        "        )\n",
        "        # model=\"Qwen/Qwen2.5-32B-Instruct\",\n",
        "        # messages=[\n",
        "        #     {\n",
        "        #         \"role\": \"user\",\n",
        "        #         \"content\": prompt,\n",
        "        #     }\n",
        "        # ],\n",
        "        # temperature=0,\n",
        "        # max_tokens=4096,\n",
        "        # top_p=0.95,\n",
        "        # )\n",
        "        result = response.choices[0].message.content\n",
        "        return result.strip()\n",
        "    except Exception as e:\n",
        "        print(f\"Error processing request: {e}\")\n",
        "        return None"
      ]
    },
    {
      "cell_type": "code",
      "execution_count": null,
      "id": "97efa071",
      "metadata": {
        "id": "97efa071"
      },
      "outputs": [],
      "source": [
        "df_test = df_copy.iloc[0:92191]\n",
        "print(df_test.shape)\n",
        "df_test.head()"
      ]
    },
    {
      "cell_type": "code",
      "execution_count": null,
      "id": "deba70a6",
      "metadata": {
        "id": "deba70a6"
      },
      "outputs": [],
      "source": [
        "# Few-shot prompting strategy:\n",
        "# We use all rows from `Memory_dataset_TextClassification.xlsx` as few-shot examples.\n",
        "# This memory dataset represents 40% of the full labeled corpus and is pre-selected.\n",
        "# These examples are added to the prompt to guide classification.\n",
        "# To switch to zero-shot prompting, replace `exmpls` with an empty string.\n",
        "\n",
        "\n",
        "all_res = []\n",
        "\n",
        "# This dataset is a 40% memory sample used for few-shot prompting\n",
        "data_m = pd.read_excel('/content/Memory_dataset_TextClassification.xlsx')\n",
        "\n",
        "for index, row in df_test.iterrows():\n",
        "    # Use all available few-shot examples from the memory dataset (already 40% of total)\n",
        "    df_few_shot_examples = data_m.copy()\n",
        "\n",
        "    exmpls = \"\\n\".join([\n",
        "        f\"Transcript: {r['Transcript']}\\nTopic Label: {r['Topic Label']}\\n\"\n",
        "        for _, r in df_few_shot_examples.iterrows()\n",
        "    ])\n",
        "\n",
        "    post = row['Sentence']\n",
        "    print(index)\n",
        "    result = get_classification(post, exmpls, \"\")\n",
        "    if result:\n",
        "        all_res.append(result)\n",
        "    else:\n",
        "        all_res.append(\"Error\")\n",
        "\n",
        "# Add the results to the DataFrame and save\n",
        "df_class = df_test.copy()\n",
        "df_class['Topic_Classification'] = all_res\n",
        "df_class.to_csv('TopicClassification_results.csv')"
      ]
    },
    {
      "cell_type": "code",
      "execution_count": null,
      "id": "eef178d6",
      "metadata": {
        "id": "eef178d6"
      },
      "outputs": [],
      "source": [
        "df_class['Topic_Classification'].value_counts()"
      ]
    },
    {
      "cell_type": "code",
      "execution_count": null,
      "id": "cb014c09",
      "metadata": {
        "id": "cb014c09"
      },
      "outputs": [],
      "source": [
        "df_class.shape"
      ]
    }
  ],
  "metadata": {
    "kernelspec": {
      "display_name": "Python 3",
      "name": "python3"
    },
    "language_info": {
      "codemirror_mode": {
        "name": "ipython",
        "version": 3
      },
      "file_extension": ".py",
      "mimetype": "text/x-python",
      "name": "python",
      "nbconvert_exporter": "python",
      "pygments_lexer": "ipython3",
      "version": "3.10.12"
    },
    "colab": {
      "provenance": [],
      "gpuType": "T4"
    },
    "accelerator": "GPU"
  },
  "nbformat": 4,
  "nbformat_minor": 5
}